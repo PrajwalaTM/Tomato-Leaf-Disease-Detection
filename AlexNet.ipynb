{
 "cells": [
  {
   "cell_type": "code",
   "execution_count": 1,
   "metadata": {},
   "outputs": [
    {
     "name": "stderr",
     "output_type": "stream",
     "text": [
      "Using TensorFlow backend.\n"
     ]
    }
   ],
   "source": [
    "import keras\n",
    "from keras.layers import Conv2D,Input,Dense,MaxPooling2D,BatchNormalization,ZeroPadding2D,Flatten,Dropout\n",
    "from keras.models import Model\n",
    "import numpy as np\n",
    "from keras.utils import np_utils\n",
    "from keras.preprocessing.image import ImageDataGenerator"
   ]
  },
  {
   "cell_type": "code",
   "execution_count": 2,
   "metadata": {},
   "outputs": [],
   "source": [
    "from keras.callbacks import ReduceLROnPlateau, CSVLogger,EarlyStopping,ModelCheckpoint\n",
    "import matplotlib.pyplot as plt\n",
    "from scipy.misc import imread, imresize\n",
    "from numpy.random import permutation"
   ]
  },
  {
   "cell_type": "code",
   "execution_count": 3,
   "metadata": {
    "collapsed": true
   },
   "outputs": [],
   "source": [
    "def alexnet():\n",
    "    \n",
    "    input_1 = Input(shape=(227,227,3))\n",
    "    \n",
    "    conv_1 = Conv2D(96, 11, strides=(4, 4), padding='valid',activation='relu',name='conv_1')(input_1)\n",
    "    pool_1 = MaxPooling2D((3, 3), strides=(2, 2),name='pool_1')(conv_1)\n",
    "    norm_1 = BatchNormalization()(pool_1)\n",
    "    padding_1 = ZeroPadding2D((2,2))(norm_1)\n",
    "    \n",
    "    conv_2 = Conv2D(256, 5,padding='valid',activation='relu',name='conv_2')(padding_1)\n",
    "    pool_2 = MaxPooling2D((3, 3), strides=(2, 2),name='pool_2')(conv_2)\n",
    "    norm_2 = BatchNormalization()(pool_2)\n",
    "    padding_2 = ZeroPadding2D((1,1))(norm_2)\n",
    "    \n",
    "    conv_3 = Conv2D(384, 3,padding='valid',activation='relu',name='conv_3')(padding_2)\n",
    "    padding_3 = ZeroPadding2D((1,1))(conv_3)\n",
    "    conv_4 = Conv2D(384, 3,padding='valid',activation='relu',name='conv_4')(padding_3)\n",
    "    padding_4 = ZeroPadding2D((1,1))(conv_4)\n",
    "    conv_5 = Conv2D(256, 3,padding='valid',activation='relu',name='conv_5')(padding_4)\n",
    "    pool_3 = MaxPooling2D((3, 3), strides=(3, 3),name='pool_3')(conv_5)\n",
    "    \n",
    "    dense_1 = Flatten(name=\"flatten\")(pool_3)\n",
    "    dense_1 = Dense(4096, activation='relu',name='dense_1')(dense_1)\n",
    "    dense_2 = Dropout(0.5)(dense_1)\n",
    "    dense_2 = Dense(4096, activation='relu',name='dense_2')(dense_2)\n",
    "    dense_3 = Dropout(0.5)(dense_2)\n",
    "    dense_3 = Dense(10,name='dense_3_new')(dense_3)\n",
    "\n",
    "    model = Model(inputs = input_1,outputs = dense_3)\n",
    "    return model"
   ]
  },
  {
   "cell_type": "code",
   "execution_count": 4,
   "metadata": {},
   "outputs": [
    {
     "name": "stdout",
     "output_type": "stream",
     "text": [
      "_________________________________________________________________\n",
      "Layer (type)                 Output Shape              Param #   \n",
      "=================================================================\n",
      "input_1 (InputLayer)         (None, 227, 227, 3)       0         \n",
      "_________________________________________________________________\n",
      "conv_1 (Conv2D)              (None, 55, 55, 96)        34944     \n",
      "_________________________________________________________________\n",
      "pool_1 (MaxPooling2D)        (None, 27, 27, 96)        0         \n",
      "_________________________________________________________________\n",
      "batch_normalization_1 (Batch (None, 27, 27, 96)        384       \n",
      "_________________________________________________________________\n",
      "zero_padding2d_1 (ZeroPaddin (None, 31, 31, 96)        0         \n",
      "_________________________________________________________________\n",
      "conv_2 (Conv2D)              (None, 27, 27, 256)       614656    \n",
      "_________________________________________________________________\n",
      "pool_2 (MaxPooling2D)        (None, 13, 13, 256)       0         \n",
      "_________________________________________________________________\n",
      "batch_normalization_2 (Batch (None, 13, 13, 256)       1024      \n",
      "_________________________________________________________________\n",
      "zero_padding2d_2 (ZeroPaddin (None, 15, 15, 256)       0         \n",
      "_________________________________________________________________\n",
      "conv_3 (Conv2D)              (None, 13, 13, 384)       885120    \n",
      "_________________________________________________________________\n",
      "zero_padding2d_3 (ZeroPaddin (None, 15, 15, 384)       0         \n",
      "_________________________________________________________________\n",
      "conv_4 (Conv2D)              (None, 13, 13, 384)       1327488   \n",
      "_________________________________________________________________\n",
      "zero_padding2d_4 (ZeroPaddin (None, 15, 15, 384)       0         \n",
      "_________________________________________________________________\n",
      "conv_5 (Conv2D)              (None, 13, 13, 256)       884992    \n",
      "_________________________________________________________________\n",
      "pool_3 (MaxPooling2D)        (None, 4, 4, 256)         0         \n",
      "_________________________________________________________________\n",
      "flatten (Flatten)            (None, 4096)              0         \n",
      "_________________________________________________________________\n",
      "dense_1 (Dense)              (None, 4096)              16781312  \n",
      "_________________________________________________________________\n",
      "dropout_1 (Dropout)          (None, 4096)              0         \n",
      "_________________________________________________________________\n",
      "dense_2 (Dense)              (None, 4096)              16781312  \n",
      "_________________________________________________________________\n",
      "dropout_2 (Dropout)          (None, 4096)              0         \n",
      "_________________________________________________________________\n",
      "dense_3_new (Dense)          (None, 10)                40970     \n",
      "=================================================================\n",
      "Total params: 37,352,202.0\n",
      "Trainable params: 37,351,498.0\n",
      "Non-trainable params: 704.0\n",
      "_________________________________________________________________\n"
     ]
    }
   ],
   "source": [
    "model = alexnet()\n",
    "model.summary()"
   ]
  },
  {
   "cell_type": "code",
   "execution_count": 5,
   "metadata": {},
   "outputs": [],
   "source": [
    "train_images = np.load('train_images_alexnet.npy')\n",
    "train_labels = np.load('train_labels_alexnet.npy')"
   ]
  },
  {
   "cell_type": "code",
   "execution_count": 6,
   "metadata": {},
   "outputs": [],
   "source": [
    "# Test pretrained model\n",
    "train_images = np.array(train_images)\n",
    "train_labels = np.array(train_labels)\n",
    "mean = np.mean(train_images,axis=(0,1,2,3))\n",
    "std = np.std(train_images,axis=(0,1,2,3))\n",
    "train_images = (train_images-mean)/(std+1e-7)\n",
    "num_classes = 10\n",
    "train_labels = np_utils.to_categorical(train_labels,num_classes)"
   ]
  },
  {
   "cell_type": "code",
   "execution_count": 9,
   "metadata": {},
   "outputs": [
    {
     "name": "stdout",
     "output_type": "stream",
     "text": [
      "[ 3463 13635   843 ..., 12129 11563  5126]\n"
     ]
    }
   ],
   "source": [
    "print (perm)"
   ]
  },
  {
   "cell_type": "code",
   "execution_count": 8,
   "metadata": {
    "collapsed": true
   },
   "outputs": [],
   "source": [
    "perm = permutation(len(train_images))\n",
    "train_images = train_images[perm]\n",
    "train_labels = train_labels[perm]\n",
    "val_images = train_images[1:1000]\n",
    "val_labels = train_labels[1:1000]\n",
    "new_train= train_images[1000:]\n",
    "new_labels = train_labels[1000:]"
   ]
  },
  {
   "cell_type": "code",
   "execution_count": null,
   "metadata": {
    "collapsed": true
   },
   "outputs": [],
   "source": [
    "print()"
   ]
  },
  {
   "cell_type": "code",
   "execution_count": 7,
   "metadata": {
    "collapsed": true
   },
   "outputs": [],
   "source": [
    "lr_reducer = ReduceLROnPlateau(factor = np.sqrt(0.1), cooldown=0, patience=2, min_lr=0.5e-6)\n",
    "csv_logger = CSVLogger('Alexnet.csv')\n",
    "early_stopper = EarlyStopping(min_delta=0.001,patience=30)\n",
    "model_checkpoint = ModelCheckpoint('Alexnet.hdf5',monitor = 'val_loss', verbose = 1,save_best_only=True)"
   ]
  },
  {
   "cell_type": "code",
   "execution_count": 8,
   "metadata": {},
   "outputs": [],
   "source": [
    "model.compile(loss='categorical_crossentropy',\n",
    "        optimizer=\"Adam\",\n",
    "        metrics=['accuracy'])"
   ]
  },
  {
   "cell_type": "code",
   "execution_count": null,
   "metadata": {
    "collapsed": true
   },
   "outputs": [],
   "source": [
    "datagen = ImageDataGenerator(\n",
    "        featurewise_center=True,  # set input mean to 0 over the dataset\n",
    "        samplewise_center=True,  # set each sample mean to 0\n",
    "        featurewise_std_normalization=False,  # divide inputs by std of the dataset\n",
    "        samplewise_std_normalization=False,  # divide each input by its std\n",
    "        zca_whitening=False,  # apply ZCA whitening\n",
    "        rotation_range=20,  # randomly rotate images in the range (degrees, 0 to 180)\n",
    "        width_shift_range=0.1,  # randomly shift images horizontally (fraction of total width)\n",
    "        height_shift_range=0.1,  # randomly shift images vertically (fraction of total height)\n",
    "        horizontal_flip=True,  # randomly flip images\n",
    "        vertical_flip=False)  # randomly flip images\n",
    "    \n",
    "datagen.fit(train_images)\n",
    "model.fit_generator(datagen.flow(new_train, new_labels, batch_size=12),\n",
    "                        steps_per_epoch=train_images.shape[0] // 12,\n",
    "                        validation_data = (val_images,val_labels),\n",
    "                        epochs=30,verbose=1,callbacks = [lr_reducer,early_stopper,csv_logger,model_checkpoint])"
   ]
  },
  {
   "cell_type": "code",
   "execution_count": null,
   "metadata": {
    "collapsed": true
   },
   "outputs": [],
   "source": [
    "model.fit(train_images, train_labels,\n",
    "              batch_size=12,\n",
    "              epochs=30,\n",
    "              validation_split=0.3,\n",
    "              shuffle=True,callbacks=[lr_reducer,csv_logger,early_stopper,model_checkpoint])"
   ]
  }
 ],
 "metadata": {
  "kernelspec": {
   "display_name": "Python 2",
   "language": "python",
   "name": "python2"
  },
  "language_info": {
   "codemirror_mode": {
    "name": "ipython",
    "version": 2
   },
   "file_extension": ".py",
   "mimetype": "text/x-python",
   "name": "python",
   "nbconvert_exporter": "python",
   "pygments_lexer": "ipython2",
   "version": "2.7.9"
  }
 },
 "nbformat": 4,
 "nbformat_minor": 2
}
