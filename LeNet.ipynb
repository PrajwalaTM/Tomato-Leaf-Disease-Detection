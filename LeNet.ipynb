{
 "cells": [
  {
   "cell_type": "code",
   "execution_count": 35,
   "metadata": {},
   "outputs": [],
   "source": [
    "from keras.models import Sequential\n",
    "from keras.layers.convolutional import Convolution2D\n",
    "from keras.layers.convolutional import MaxPooling2D\n",
    "from keras.layers.core import Activation\n",
    "from keras.layers.core import Flatten\n",
    "from keras.layers.core import Dense\n",
    "import keras\n",
    "from keras import regularizers, optimizers\n",
    "from keras.layers import Conv2D,Input,Dense,MaxPooling2D,BatchNormalization,ZeroPadding2D,Flatten,Dropout\n",
    "from keras.models import Model\n",
    "import numpy as np\n",
    "from keras.utils import np_utils\n",
    "from keras.preprocessing.image import ImageDataGenerator"
   ]
  },
  {
   "cell_type": "code",
   "execution_count": 36,
   "metadata": {},
   "outputs": [],
   "source": [
    "from keras.callbacks import ReduceLROnPlateau, CSVLogger,EarlyStopping,ModelCheckpoint\n",
    "import matplotlib.pyplot as plt\n",
    "from scipy.misc import imread, imresize\n",
    "from numpy.random import permutation"
   ]
  },
  {
   "cell_type": "code",
   "execution_count": 41,
   "metadata": {},
   "outputs": [],
   "source": [
    "def le_net():\n",
    "    model = Sequential()\n",
    "    # first set of CONV => RELU => POOL\n",
    "    model.add(Convolution2D(20, 5, 5, border_mode=\"same\",\n",
    "    input_shape=(3, 60, 60)))\n",
    "    model.add(Dropout(0.2))\n",
    "    model.add(Activation(\"relu\"))\n",
    "    model.add(MaxPooling2D(pool_size=(2, 2), strides=(2, 2)))\n",
    "\n",
    "    # second set of CONV => RELU => POOL\n",
    "    model.add(Convolution2D(50, 5, 5, border_mode=\"same\"))\n",
    "    model.add(Dropout(0.2))\n",
    "    model.add(Activation(\"relu\"))\n",
    "    model.add(MaxPooling2D(pool_size=(2, 2), strides=(2, 2)))\n",
    "\n",
    "    # set of FC => RELU layers\n",
    "    model.add(Flatten())\n",
    "    model.add(Dense(500))\n",
    "    model.add(Dropout(0.2))\n",
    "    model.add(Activation(\"relu\"))\n",
    " \n",
    "    # softmax classifier\n",
    "    model.add(Dense(10))\n",
    "    model.add(Dropout(0.2))\n",
    "    model.add(Activation(\"softmax\"))\n",
    "        \n",
    "    return model        "
   ]
  },
  {
   "cell_type": "code",
   "execution_count": 42,
   "metadata": {},
   "outputs": [
    {
     "name": "stderr",
     "output_type": "stream",
     "text": [
      "/usr/local/lib/python2.7/dist-packages/ipykernel_launcher.py:5: UserWarning: Update your `Conv2D` call to the Keras 2 API: `Conv2D(20, (5, 5), padding=\"same\", input_shape=(3, 60, 60...)`\n",
      "  \"\"\"\n",
      "/usr/local/lib/python2.7/dist-packages/ipykernel_launcher.py:11: UserWarning: Update your `Conv2D` call to the Keras 2 API: `Conv2D(50, (5, 5), padding=\"same\")`\n",
      "  # This is added back by InteractiveShellApp.init_path()\n"
     ]
    },
    {
     "name": "stdout",
     "output_type": "stream",
     "text": [
      "_________________________________________________________________\n",
      "Layer (type)                 Output Shape              Param #   \n",
      "=================================================================\n",
      "conv2d_25 (Conv2D)           (None, 20, 60, 60)        1520      \n",
      "_________________________________________________________________\n",
      "dropout_23 (Dropout)         (None, 20, 60, 60)        0         \n",
      "_________________________________________________________________\n",
      "activation_27 (Activation)   (None, 20, 60, 60)        0         \n",
      "_________________________________________________________________\n",
      "max_pooling2d_25 (MaxPooling (None, 20, 30, 30)        0         \n",
      "_________________________________________________________________\n",
      "conv2d_26 (Conv2D)           (None, 50, 30, 30)        25050     \n",
      "_________________________________________________________________\n",
      "dropout_24 (Dropout)         (None, 50, 30, 30)        0         \n",
      "_________________________________________________________________\n",
      "activation_28 (Activation)   (None, 50, 30, 30)        0         \n",
      "_________________________________________________________________\n",
      "max_pooling2d_26 (MaxPooling (None, 50, 15, 15)        0         \n",
      "_________________________________________________________________\n",
      "flatten_13 (Flatten)         (None, 11250)             0         \n",
      "_________________________________________________________________\n",
      "dense_3 (Dense)              (None, 500)               5625500   \n",
      "_________________________________________________________________\n",
      "dropout_25 (Dropout)         (None, 500)               0         \n",
      "_________________________________________________________________\n",
      "activation_29 (Activation)   (None, 500)               0         \n",
      "_________________________________________________________________\n",
      "dense_4 (Dense)              (None, 10)                5010      \n",
      "_________________________________________________________________\n",
      "dropout_26 (Dropout)         (None, 10)                0         \n",
      "_________________________________________________________________\n",
      "activation_30 (Activation)   (None, 10)                0         \n",
      "=================================================================\n",
      "Total params: 5,657,080\n",
      "Trainable params: 5,657,080\n",
      "Non-trainable params: 0\n",
      "_________________________________________________________________\n"
     ]
    }
   ],
   "source": [
    "model = le_net()\n",
    "model.summary()"
   ]
  },
  {
   "cell_type": "code",
   "execution_count": 48,
   "metadata": {},
   "outputs": [],
   "source": [
    "train_images = np.load('train_images_lenet.npy')\n",
    "train_labels = np.load('train_labels_lenet.npy')"
   ]
  },
  {
   "cell_type": "code",
   "execution_count": 23,
   "metadata": {},
   "outputs": [],
   "source": [
    "lr_reducer = ReduceLROnPlateau(factor = np.sqrt(0.1), cooldown=0, patience=2, min_lr=0.5e-6)\n",
    "csv_logger = CSVLogger('Lenet.csv')\n",
    "early_stopper = EarlyStopping(min_delta=0.001,patience=30)\n",
    "model_checkpoint = ModelCheckpoint('Lenet.hdf5',monitor = 'val_loss', verbose = 1,save_best_only=True)"
   ]
  },
  {
   "cell_type": "code",
   "execution_count": 49,
   "metadata": {},
   "outputs": [],
   "source": [
    "# Test pretrained model\n",
    "train_images = np.array(train_images)\n",
    "train_labels = np.array(train_labels)\n",
    "mean = np.mean(train_images,axis=(0,1,2,3))\n",
    "std = np.std(train_images,axis=(0,1,2,3))\n",
    "train_images = (train_images-mean)/(std+1e-7)\n",
    "num_classes = 10\n",
    "train_labels = np_utils.to_categorical(train_labels,num_classes)"
   ]
  },
  {
   "cell_type": "code",
   "execution_count": 25,
   "metadata": {
    "collapsed": true
   },
   "outputs": [],
   "source": [
    "perm = permutation(len(train_images))\n",
    "train_images = train_images[perm]\n",
    "train_labels = train_labels[perm]\n",
    "val_images = train_images[1:4800]\n",
    "val_labels = train_labels[1:4800]\n",
    "new_train= train_images[4800:]\n",
    "new_labels = train_labels[4800:]"
   ]
  },
  {
   "cell_type": "code",
   "execution_count": 43,
   "metadata": {},
   "outputs": [],
   "source": [
    "model.compile(loss='categorical_crossentropy',\n",
    "        optimizer=\"Adam\",\n",
    "        metrics=['accuracy'])"
   ]
  },
  {
   "cell_type": "code",
   "execution_count": 27,
   "metadata": {},
   "outputs": [
    {
     "name": "stdout",
     "output_type": "stream",
     "text": [
      "Epoch 1/30\n",
      "1430/1430 [==============================] - 108s - loss: 1.1804 - acc: 0.6059 - val_loss: 0.6875 - val_acc: 0.7768\n",
      "Epoch 2/30\n",
      "1430/1430 [==============================] - 108s - loss: 0.7968 - acc: 0.7367 - val_loss: 0.4712 - val_acc: 0.8478\n",
      "Epoch 3/30\n",
      "1430/1430 [==============================] - 108s - loss: 0.6880 - acc: 0.7686 - val_loss: 0.4500 - val_acc: 0.8569\n",
      "Epoch 4/30\n",
      "1430/1430 [==============================] - 108s - loss: 0.6305 - acc: 0.7853 - val_loss: 0.3742 - val_acc: 0.8849\n",
      "Epoch 5/30\n",
      "1430/1430 [==============================] - 108s - loss: 0.6051 - acc: 0.7971 - val_loss: 0.2664 - val_acc: 0.9119\n",
      "Epoch 6/30\n",
      "1430/1430 [==============================] - 108s - loss: 0.5753 - acc: 0.8058 - val_loss: 0.2791 - val_acc: 0.9109\n",
      "Epoch 7/30\n",
      "1430/1430 [==============================] - 109s - loss: 0.5636 - acc: 0.8140 - val_loss: 0.2686 - val_acc: 0.9089\n",
      "Epoch 8/30\n",
      "1430/1430 [==============================] - 110s - loss: 0.5320 - acc: 0.8206 - val_loss: 0.3162 - val_acc: 0.9109\n",
      "Epoch 9/30\n",
      "1430/1430 [==============================] - 109s - loss: 0.5376 - acc: 0.8151 - val_loss: 0.2390 - val_acc: 0.9229\n",
      "Epoch 10/30\n",
      "1430/1430 [==============================] - 110s - loss: 0.5123 - acc: 0.8256 - val_loss: 0.2427 - val_acc: 0.9169\n",
      "Epoch 11/30\n",
      "1430/1430 [==============================] - 109s - loss: 0.4910 - acc: 0.8384 - val_loss: 0.2845 - val_acc: 0.9009\n",
      "Epoch 12/30\n",
      "1430/1430 [==============================] - 110s - loss: 0.5018 - acc: 0.8294 - val_loss: 0.2796 - val_acc: 0.9089\n",
      "Epoch 13/30\n",
      "1430/1430 [==============================] - 110s - loss: 0.4880 - acc: 0.8371 - val_loss: 0.2119 - val_acc: 0.9349\n",
      "Epoch 14/30\n",
      "1430/1430 [==============================] - 110s - loss: 0.4780 - acc: 0.8385 - val_loss: 0.2310 - val_acc: 0.9259\n",
      "Epoch 15/30\n",
      "1430/1430 [==============================] - 110s - loss: 0.4658 - acc: 0.8388 - val_loss: 0.2130 - val_acc: 0.9269\n",
      "Epoch 16/30\n",
      "1430/1430 [==============================] - 110s - loss: 0.4786 - acc: 0.8388 - val_loss: 0.1950 - val_acc: 0.9399\n",
      "Epoch 17/30\n",
      "1430/1430 [==============================] - 110s - loss: 0.4751 - acc: 0.8396 - val_loss: 0.2012 - val_acc: 0.9369\n",
      "Epoch 18/30\n",
      "1430/1430 [==============================] - 109s - loss: 0.4734 - acc: 0.8438 - val_loss: 0.1507 - val_acc: 0.9610\n",
      "Epoch 19/30\n",
      "1430/1430 [==============================] - 109s - loss: 0.4582 - acc: 0.8466 - val_loss: 0.1738 - val_acc: 0.9429\n",
      "Epoch 20/30\n",
      "1430/1430 [==============================] - 109s - loss: 0.4401 - acc: 0.8531 - val_loss: 0.3563 - val_acc: 0.8819\n",
      "Epoch 21/30\n",
      "1430/1430 [==============================] - 109s - loss: 0.4699 - acc: 0.8441 - val_loss: 0.1846 - val_acc: 0.9349\n",
      "Epoch 22/30\n",
      "1430/1430 [==============================] - 109s - loss: 0.4417 - acc: 0.8517 - val_loss: 0.2554 - val_acc: 0.9199\n",
      "Epoch 23/30\n",
      "1430/1430 [==============================] - 110s - loss: 0.4658 - acc: 0.8446 - val_loss: 0.1421 - val_acc: 0.9570\n",
      "Epoch 24/30\n",
      "1430/1430 [==============================] - 109s - loss: 0.4470 - acc: 0.8520 - val_loss: 0.2556 - val_acc: 0.9189\n",
      "Epoch 25/30\n",
      "1430/1430 [==============================] - 109s - loss: 0.4398 - acc: 0.8498 - val_loss: 0.1359 - val_acc: 0.9550\n",
      "Epoch 26/30\n",
      "1430/1430 [==============================] - 109s - loss: 0.4385 - acc: 0.8517 - val_loss: 0.1649 - val_acc: 0.9439\n",
      "Epoch 27/30\n",
      "1430/1430 [==============================] - 109s - loss: 0.4439 - acc: 0.8521 - val_loss: 0.1734 - val_acc: 0.9489\n",
      "Epoch 28/30\n",
      "1430/1430 [==============================] - 109s - loss: 0.4304 - acc: 0.8529 - val_loss: 0.1782 - val_acc: 0.9489\n",
      "Epoch 29/30\n",
      "1430/1430 [==============================] - 109s - loss: 0.4244 - acc: 0.8580 - val_loss: 0.2452 - val_acc: 0.9189\n",
      "Epoch 30/30\n",
      "1430/1430 [==============================] - 109s - loss: 0.4369 - acc: 0.8544 - val_loss: 0.1315 - val_acc: 0.9640\n"
     ]
    },
    {
     "data": {
      "text/plain": [
       "<keras.callbacks.History at 0x7fd469fb1b90>"
      ]
     },
     "execution_count": 27,
     "metadata": {},
     "output_type": "execute_result"
    }
   ],
   "source": [
    "# This will do preprocessing and realtime data augmentation:\n",
    "datagen = ImageDataGenerator(\n",
    "        featurewise_center=False,  # set input mean to 0 over the dataset\n",
    "        samplewise_center=False,  # set each sample mean to 0\n",
    "        featurewise_std_normalization=False,  # divide inputs by std of the dataset\n",
    "        samplewise_std_normalization=False,  # divide each input by its std\n",
    "        zca_whitening=False,  # apply ZCA whitening\n",
    "        rotation_range=20,  # randomly rotate images in the range (degrees, 0 to 180)\n",
    "        width_shift_range=0.1,  # randomly shift images horizontally (fraction of total width)\n",
    "        height_shift_range=0.1,  # randomly shift images vertically (fraction of total height)\n",
    "        horizontal_flip=True,  # randomly flip images\n",
    "        vertical_flip=False)  # randomly flip images\n",
    "    \n",
    "datagen.fit(new_train)\n",
    "model.fit_generator(datagen.flow(new_train, new_labels, batch_size=12),\n",
    "                        steps_per_epoch=new_train.shape[0] // 12,\n",
    "                        epochs=30,verbose=1,validation_data=(val_images,val_labels))"
   ]
  },
  {
   "cell_type": "code",
   "execution_count": 29,
   "metadata": {
    "collapsed": true
   },
   "outputs": [],
   "source": [
    "#Training the model \n",
    "model.save_weights('lenet.h5')"
   ]
  },
  {
   "cell_type": "code",
   "execution_count": 44,
   "metadata": {},
   "outputs": [],
   "source": [
    "#Loading pre-trained weights\n",
    "model.load_weights('lenet.h5')"
   ]
  },
  {
   "cell_type": "code",
   "execution_count": 61,
   "metadata": {
    "collapsed": true
   },
   "outputs": [],
   "source": [
    "class_names = {0:'curl_virus',1:'late_blight',2:'early_blight',3:'spider_mites',4:'healthy',5:'septorial_leaf_spot',6:'target_spot',7:'mosaic_virus',8:'bacterial_spot',9:'leaf_mold'}"
   ]
  },
  {
   "cell_type": "code",
   "execution_count": 62,
   "metadata": {},
   "outputs": [
    {
     "name": "stdout",
     "output_type": "stream",
     "text": [
      "[[  3.40223694e-09   1.98008383e-05   9.99696732e-01   5.74970974e-11\n",
      "    7.72399657e-16   2.80315354e-10   7.98787009e-16   2.09884723e-30\n",
      "    2.83511530e-04   7.80457032e-09]]\n",
      "2\n",
      "early_blight\n"
     ]
    }
   ],
   "source": [
    "img = imresize(imread(\"Tomato/Tomato___Early_blight/1bb0101c-d0a4-41a5-85b9-6e8634d01a36___RS_Erly.B 9585.JPG\", mode='RGB'),(60,60)).astype(np.float32)\n",
    "img = (img-mean)/(std+1e-7)\n",
    "img = np.expand_dims(img, axis=0)\n",
    "out = model.predict(img) \n",
    "print out\n",
    "print (np.argmax(out))\n",
    "print(class_names[np.argmax(out)])\n"
   ]
  },
  {
   "cell_type": "code",
   "execution_count": 63,
   "metadata": {},
   "outputs": [
    {
     "name": "stdout",
     "output_type": "stream",
     "text": [
      "[[  8.73418612e-12   9.46001637e-06   4.22133356e-10   5.11822805e-07\n",
      "    9.99881029e-01   6.79011100e-06   8.46701078e-05   1.30555435e-07\n",
      "    9.63732358e-11   1.75554796e-05]]\n",
      "4\n",
      "healthy\n"
     ]
    }
   ],
   "source": [
    "img = imresize(imread(\"Tomato/Tomato___healthy/0a9986e6-b629-4ff5-8aab-7488ea9b935b___RS_HL 9704.JPG\", mode='RGB'),(60,60)).astype(np.float32)\n",
    "img = (img-mean)/(std+1e-7)\n",
    "img = np.expand_dims(img, axis=0)\n",
    "out = model.predict(img) \n",
    "print out\n",
    "print (np.argmax(out))\n",
    "print(class_names[np.argmax(out)])\n",
    "\n"
   ]
  },
  {
   "cell_type": "code",
   "execution_count": 46,
   "metadata": {},
   "outputs": [
    {
     "name": "stdout",
     "output_type": "stream",
     "text": [
      "<type 'list'>\n",
      "18160\n"
     ]
    }
   ],
   "source": [
    "labels = np.load('train_labels_lenet.npy')\n",
    "labels_list = list(labels) \n",
    "print(type(labels_list))\n",
    "print(len(labels_list))"
   ]
  },
  {
   "cell_type": "code",
   "execution_count": 53,
   "metadata": {},
   "outputs": [
    {
     "name": "stdout",
     "output_type": "stream",
     "text": [
      "0 5357\n",
      "1 1909\n",
      "2 1000\n",
      "3 1676\n",
      "4 1591\n",
      "5 1771\n",
      "6 1404\n",
      "7 373\n",
      "8 2127\n",
      "9 952\n"
     ]
    }
   ],
   "source": [
    "for i in range(10):\n",
    "    print(str(i)+\" \"+str(labels_list.count(i)))"
   ]
  }
 ],
 "metadata": {
  "kernelspec": {
   "display_name": "Python 2",
   "language": "python",
   "name": "python2"
  },
  "language_info": {
   "codemirror_mode": {
    "name": "ipython",
    "version": 2
   },
   "file_extension": ".py",
   "mimetype": "text/x-python",
   "name": "python",
   "nbconvert_exporter": "python",
   "pygments_lexer": "ipython2",
   "version": "2.7.9"
  }
 },
 "nbformat": 4,
 "nbformat_minor": 2
}
